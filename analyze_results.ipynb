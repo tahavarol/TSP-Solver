{
 "cells": [
  {
   "cell_type": "code",
   "execution_count": 52,
   "metadata": {},
   "outputs": [],
   "source": [
    "import pandas as pd\n",
    "import numpy as np\n",
    "import pickle5\n",
    "import pickle\n",
    "import matplotlib.pyplot as plt\n",
    "import glob\n",
    "import os"
   ]
  },
  {
   "cell_type": "code",
   "execution_count": 53,
   "metadata": {},
   "outputs": [],
   "source": [
    "def GetGap(optimal,predicted_tours):\n",
    "\n",
    "    sm = []\n",
    "    for i1,i2 in zip(optimal,predicted_tours):\n",
    "    \n",
    "        gap = i2-i1\n",
    "        \n",
    "        sm.append(gap/i1)\n",
    "   \n",
    "    \n",
    "    return np.mean(sm)*100    "
   ]
  },
  {
   "cell_type": "code",
   "execution_count": 54,
   "metadata": {},
   "outputs": [],
   "source": [
    "our_results = pickle.load(open(\"eval.pkl\",\"rb\"))\n"
   ]
  },
  {
   "cell_type": "code",
   "execution_count": 55,
   "metadata": {},
   "outputs": [
    {
     "data": {
      "text/plain": [
       "dict_keys(['time', 'mean_gap', 'max_gap', 'min_gap', 'perf'])"
      ]
     },
     "execution_count": 55,
     "metadata": {},
     "output_type": "execute_result"
    }
   ],
   "source": [
    "our_results[(20, 'G1')].keys()"
   ]
  },
  {
   "cell_type": "code",
   "execution_count": 56,
   "metadata": {},
   "outputs": [],
   "source": [
    "kool_results = {}\n",
    "\n",
    "instance_names = [\"G1\", \"G2_2\", \"G3_1\", \"G3_2\", \"G3_3\", \"G4\", \"SG\", \"US\", \"UR\", \"NS\", \"NR\"]\n",
    "instance_sizes = [20,50,100]\n",
    "\n",
    "for name in instance_names:\n",
    "    for size in instance_sizes:\n",
    "        directory_path = 'results/tsp/scaled_{}_{}'.format(name,size)\n",
    "        files = glob.glob(os.path.join(directory_path, '*'))\n",
    "\n",
    "        if len(files) == 1:\n",
    "            # Get the file path\n",
    "            file_path = files[0]\n",
    "        kool_results[(size,name)] = {}\n",
    "        kool_results[(size,name)][\"res\"] = pickle5.load(open(file_path,\"rb\"))\n",
    "        kool_results[(size,name)][\"time\"] = float(file_path[-13:-4])\n",
    "    \n",
    "\n",
    "optimal_tours = pickle.load(open(\"optimal.pkl\",\"rb\"))\n",
    "\n",
    "\n",
    "for key in kool_results:\n",
    "    kool_results[key][\"res\"] = [item[0]*1000 for item in kool_results[key][\"res\"][0]]"
   ]
  },
  {
   "cell_type": "code",
   "execution_count": 57,
   "metadata": {},
   "outputs": [],
   "source": [
    "for key in kool_results:\n",
    "    kool_results[key][\"mean_gap\"] = GetGap(optimal_tours[key],kool_results[key][\"res\"])\n",
    "    kool_results[key][\"max_gap\"] = np.max(np.array(kool_results[key][\"res\"])/optimal_tours[key])\n",
    "    kool_results[key][\"min_gap\"] = np.max(np.array(kool_results[key][\"res\"])/optimal_tours[key])\n",
    "    kool_results[key][\"perf\"] = (np.array(kool_results[key][\"res\"])/optimal_tours[key])-1\n",
    "    del kool_results[key][\"res\"]\n"
   ]
  },
  {
   "cell_type": "code",
   "execution_count": 35,
   "metadata": {},
   "outputs": [
    {
     "data": {
      "text/plain": [
       "1.330006"
      ]
     },
     "execution_count": 35,
     "metadata": {},
     "output_type": "execute_result"
    }
   ],
   "source": []
  },
  {
   "cell_type": "code",
   "execution_count": 43,
   "metadata": {},
   "outputs": [
    {
     "data": {
      "text/plain": [
       "dict_keys(['time', 'mean_gap', 'max_gap', 'min_gap', 'perf'])"
      ]
     },
     "execution_count": 43,
     "metadata": {},
     "output_type": "execute_result"
    }
   ],
   "source": [
    "our_results[(20, 'G1')].keys()"
   ]
  },
  {
   "cell_type": "code",
   "execution_count": 59,
   "metadata": {},
   "outputs": [
    {
     "name": "stdout",
     "output_type": "stream",
     "text": [
      "(20, 'G1') 0.8602000380402834 3.877074961006103\n",
      "(20, 'G1') 1.8990099430084229 0.20021\n",
      "************************************\n",
      "(50, 'G1') 3.342558636577807 26.722153408114234\n",
      "(50, 'G1') 7.28010630607605 0.517078\n",
      "************************************\n",
      "(100, 'G1') 5.629386329111288 78.48308539601166\n",
      "(100, 'G1') 32.959229946136475 1.322848\n",
      "************************************\n",
      "(20, 'G2_2') 0.8556787315016002 3.85746246212932\n",
      "(20, 'G2_2') 1.988631010055542 0.200362\n",
      "************************************\n",
      "(50, 'G2_2') 3.2673591737219856 27.036171408899044\n",
      "(50, 'G2_2') 7.202844619750977 0.521377\n",
      "************************************\n",
      "(100, 'G2_2') 5.498849291118392 88.48085677082419\n",
      "(100, 'G2_2') 32.61657214164734 1.322182\n",
      "************************************\n",
      "(20, 'G3_1') 0.49843277893996446 1.785445936147589\n",
      "(20, 'G3_1') 1.9585812091827393 0.197283\n",
      "************************************\n",
      "(50, 'G3_1') 2.8762657027355525 67.76009321893773\n",
      "(50, 'G3_1') 6.852731704711914 0.517511\n",
      "************************************\n",
      "(100, 'G3_1') 5.996693004442911 74.94275938481255\n",
      "(100, 'G3_1') 33.137593507766724 1.32799\n",
      "************************************\n",
      "(20, 'G3_2') 0.7834714664443885 3.5737796358864244\n",
      "(20, 'G3_2') 1.9782228469848633 0.199096\n",
      "************************************\n",
      "(50, 'G3_2') 3.278930713603392 92.45631681592788\n",
      "(50, 'G3_2') 7.311215877532959 0.522447\n",
      "************************************\n",
      "(100, 'G3_2') 5.427517152765659 123.99021640537448\n",
      "(100, 'G3_2') 33.351638317108154 1.312525\n",
      "************************************\n",
      "(20, 'G3_3') 0.7481050681490786 4.129754620035056\n",
      "(20, 'G3_3') 1.9262399673461914 0.1993\n",
      "************************************\n",
      "(50, 'G3_3') 3.1046270632016997 104.12338195600964\n",
      "(50, 'G3_3') 6.526639699935913 0.52044\n",
      "************************************\n",
      "(100, 'G3_3') 5.283563922735707 133.67751523628587\n",
      "(100, 'G3_3') 33.10876822471619 1.321001\n",
      "************************************\n",
      "(20, 'G4') 0.6215200122879121 37.57332370445417\n",
      "(20, 'G4') 1.9731988906860352 0.198583\n",
      "************************************\n",
      "(50, 'G4') 2.4264367107882623 135.47824376586107\n",
      "(50, 'G4') 6.868883371353149 0.5202\n",
      "************************************\n",
      "(100, 'G4') 4.426795740721063 138.46702182510924\n",
      "(100, 'G4') 35.15898585319519 1.320507\n",
      "************************************\n",
      "(20, 'SG') 1.0205219141526582 1.2702244617741028\n",
      "(20, 'SG') 1.912043571472168 0.198262\n",
      "************************************\n",
      "(50, 'SG') 3.7772807894454563 17.042833823452515\n",
      "(50, 'SG') 7.290339469909668 0.5254\n",
      "************************************\n",
      "(100, 'SG') 6.3771585675572995 93.29862213407175\n",
      "(100, 'SG') 32.86957550048828 1.312876\n",
      "************************************\n",
      "(20, 'US') 1.2237074168110216 0.27948143921076585\n",
      "(20, 'US') 1.9683191776275635 0.197898\n",
      "************************************\n",
      "(50, 'US') 4.424156195420768 1.6326716153846035\n",
      "(50, 'US') 6.891610145568848 0.515989\n",
      "************************************\n",
      "(100, 'US') 6.59384175179321 4.3316279544214655\n",
      "(100, 'US') 30.81420874595642 1.329446\n",
      "************************************\n",
      "(20, 'UR') 0.7148932552326969 17.209082827370505\n",
      "(20, 'UR') 1.9718899726867676 0.19878\n",
      "************************************\n",
      "(50, 'UR') 2.980634395171758 84.8418519096352\n",
      "(50, 'UR') 7.308507204055786 0.520706\n",
      "************************************\n",
      "(100, 'UR') 5.128421866096464 132.1850556863713\n",
      "(100, 'UR') 32.945762157440186 1.425105\n",
      "************************************\n",
      "(20, 'NS') 1.0003053384789822 0.546790287949756\n",
      "(20, 'NS') 1.9791090488433838 0.197399\n",
      "************************************\n",
      "(50, 'NS') 3.8216958124073455 3.1460633303466836\n",
      "(50, 'NS') 7.273146867752075 0.520231\n",
      "************************************\n",
      "(100, 'NS') 5.913192280438652 7.902667402456874\n",
      "(100, 'NS') 30.598096132278442 1.334997\n",
      "************************************\n",
      "(20, 'NR') 0.6257110592105779 16.106784235345003\n",
      "(20, 'NR') 2.123394012451172 0.196476\n",
      "************************************\n",
      "(50, 'NR') 2.5061725630850256 80.14412169409346\n",
      "(50, 'NR') 7.29375433921814 0.522362\n",
      "************************************\n",
      "(100, 'NR') 4.292702278410031 118.78992987227043\n",
      "(100, 'NR') 33.173643589019775 1.330006\n",
      "************************************\n"
     ]
    }
   ],
   "source": [
    "for key in kool_results:\n",
    "    print(key, our_results[key][\"mean_gap\"],kool_results[key][\"mean_gap\"])\n",
    "    print(key, our_results[key][\"time\"],kool_results[key][\"time\"])\n",
    "    print(\"************************************\")"
   ]
  },
  {
   "cell_type": "code",
   "execution_count": 68,
   "metadata": {},
   "outputs": [],
   "source": [
    "df = {}\n",
    "for size in instance_sizes:\n",
    "    res_list = []\n",
    "    time_list = []\n",
    "    for name in instance_names:\n",
    "        res_list.append(our_results[size,name][\"mean_gap\"])\n",
    "        time_list.append(our_results[size,name][\"time\"])\n",
    "\n",
    "    res_list.append(np.mean(time_list))\n",
    "    df[(\"Our Method\",size)] = res_list\n",
    "\n",
    "\n",
    "for size in instance_sizes:\n",
    "    res_list = []\n",
    "    time_list = []\n",
    "    for name in instance_names:\n",
    "        res_list.append(kool_results[(size,name)][\"mean_gap\"])\n",
    "        time_list.append(kool_results[(size,name)][\"time\"])\n",
    "\n",
    "    res_list.append(np.mean(time_list))\n",
    "    df[(\"Kool et al.\",size)] = res_list\n",
    "\n"
   ]
  },
  {
   "cell_type": "code",
   "execution_count": 71,
   "metadata": {},
   "outputs": [
    {
     "data": {
      "text/plain": [
       "dict_keys([('Our Method', 20), ('Our Method', 50), ('Our Method', 100), ('Kool et al.', 20), ('Kool et al.', 50), ('Kool et al.', 100)])"
      ]
     },
     "execution_count": 71,
     "metadata": {},
     "output_type": "execute_result"
    }
   ],
   "source": [
    "df.keys()"
   ]
  },
  {
   "cell_type": "code",
   "execution_count": 72,
   "metadata": {},
   "outputs": [
    {
     "data": {
      "text/plain": [
       "[3.877074961006103,\n",
       " 3.85746246212932,\n",
       " 1.785445936147589,\n",
       " 3.5737796358864244,\n",
       " 4.129754620035056,\n",
       " 37.57332370445417,\n",
       " 1.2702244617741028,\n",
       " 0.27948143921076585,\n",
       " 17.209082827370505,\n",
       " 0.546790287949756,\n",
       " 16.106784235345003,\n",
       " 0.19851354545454544]"
      ]
     },
     "execution_count": 72,
     "metadata": {},
     "output_type": "execute_result"
    }
   ],
   "source": [
    "df[('Kool et al.', 20)]"
   ]
  },
  {
   "cell_type": "code",
   "execution_count": 81,
   "metadata": {},
   "outputs": [],
   "source": [
    "df_ = pd.DataFrame.from_dict(df, orient='index')\n",
    "df_ = df_.round(1)"
   ]
  },
  {
   "cell_type": "code",
   "execution_count": 82,
   "metadata": {},
   "outputs": [
    {
     "data": {
      "text/html": [
       "<div>\n",
       "<style scoped>\n",
       "    .dataframe tbody tr th:only-of-type {\n",
       "        vertical-align: middle;\n",
       "    }\n",
       "\n",
       "    .dataframe tbody tr th {\n",
       "        vertical-align: top;\n",
       "    }\n",
       "\n",
       "    .dataframe thead th {\n",
       "        text-align: right;\n",
       "    }\n",
       "</style>\n",
       "<table border=\"1\" class=\"dataframe\">\n",
       "  <thead>\n",
       "    <tr style=\"text-align: right;\">\n",
       "      <th></th>\n",
       "      <th>G1</th>\n",
       "      <th>G2_2</th>\n",
       "      <th>G3_1</th>\n",
       "      <th>G3_2</th>\n",
       "      <th>G3_3</th>\n",
       "      <th>G4</th>\n",
       "      <th>SG</th>\n",
       "      <th>US</th>\n",
       "      <th>UR</th>\n",
       "      <th>NS</th>\n",
       "      <th>NR</th>\n",
       "      <th>Time(s)</th>\n",
       "    </tr>\n",
       "  </thead>\n",
       "  <tbody>\n",
       "    <tr>\n",
       "      <th>(Our Method, 20)</th>\n",
       "      <td>0.9</td>\n",
       "      <td>0.9</td>\n",
       "      <td>0.5</td>\n",
       "      <td>0.8</td>\n",
       "      <td>0.7</td>\n",
       "      <td>0.6</td>\n",
       "      <td>1.0</td>\n",
       "      <td>1.2</td>\n",
       "      <td>0.7</td>\n",
       "      <td>1.0</td>\n",
       "      <td>0.6</td>\n",
       "      <td>2.0</td>\n",
       "    </tr>\n",
       "    <tr>\n",
       "      <th>(Our Method, 50)</th>\n",
       "      <td>3.3</td>\n",
       "      <td>3.3</td>\n",
       "      <td>2.9</td>\n",
       "      <td>3.3</td>\n",
       "      <td>3.1</td>\n",
       "      <td>2.4</td>\n",
       "      <td>3.8</td>\n",
       "      <td>4.4</td>\n",
       "      <td>3.0</td>\n",
       "      <td>3.8</td>\n",
       "      <td>2.5</td>\n",
       "      <td>7.1</td>\n",
       "    </tr>\n",
       "    <tr>\n",
       "      <th>(Our Method, 100)</th>\n",
       "      <td>5.6</td>\n",
       "      <td>5.5</td>\n",
       "      <td>6.0</td>\n",
       "      <td>5.4</td>\n",
       "      <td>5.3</td>\n",
       "      <td>4.4</td>\n",
       "      <td>6.4</td>\n",
       "      <td>6.6</td>\n",
       "      <td>5.1</td>\n",
       "      <td>5.9</td>\n",
       "      <td>4.3</td>\n",
       "      <td>32.8</td>\n",
       "    </tr>\n",
       "    <tr>\n",
       "      <th>(Kool et al., 20)</th>\n",
       "      <td>3.9</td>\n",
       "      <td>3.9</td>\n",
       "      <td>1.8</td>\n",
       "      <td>3.6</td>\n",
       "      <td>4.1</td>\n",
       "      <td>37.6</td>\n",
       "      <td>1.3</td>\n",
       "      <td>0.3</td>\n",
       "      <td>17.2</td>\n",
       "      <td>0.5</td>\n",
       "      <td>16.1</td>\n",
       "      <td>0.2</td>\n",
       "    </tr>\n",
       "    <tr>\n",
       "      <th>(Kool et al., 50)</th>\n",
       "      <td>26.7</td>\n",
       "      <td>27.0</td>\n",
       "      <td>67.8</td>\n",
       "      <td>92.5</td>\n",
       "      <td>104.1</td>\n",
       "      <td>135.5</td>\n",
       "      <td>17.0</td>\n",
       "      <td>1.6</td>\n",
       "      <td>84.8</td>\n",
       "      <td>3.1</td>\n",
       "      <td>80.1</td>\n",
       "      <td>0.5</td>\n",
       "    </tr>\n",
       "    <tr>\n",
       "      <th>(Kool et al., 100)</th>\n",
       "      <td>78.5</td>\n",
       "      <td>88.5</td>\n",
       "      <td>74.9</td>\n",
       "      <td>124.0</td>\n",
       "      <td>133.7</td>\n",
       "      <td>138.5</td>\n",
       "      <td>93.3</td>\n",
       "      <td>4.3</td>\n",
       "      <td>132.2</td>\n",
       "      <td>7.9</td>\n",
       "      <td>118.8</td>\n",
       "      <td>1.3</td>\n",
       "    </tr>\n",
       "  </tbody>\n",
       "</table>\n",
       "</div>"
      ],
      "text/plain": [
       "                      G1  G2_2  G3_1   G3_2   G3_3     G4    SG   US     UR  \\\n",
       "(Our Method, 20)     0.9   0.9   0.5    0.8    0.7    0.6   1.0  1.2    0.7   \n",
       "(Our Method, 50)     3.3   3.3   2.9    3.3    3.1    2.4   3.8  4.4    3.0   \n",
       "(Our Method, 100)    5.6   5.5   6.0    5.4    5.3    4.4   6.4  6.6    5.1   \n",
       "(Kool et al., 20)    3.9   3.9   1.8    3.6    4.1   37.6   1.3  0.3   17.2   \n",
       "(Kool et al., 50)   26.7  27.0  67.8   92.5  104.1  135.5  17.0  1.6   84.8   \n",
       "(Kool et al., 100)  78.5  88.5  74.9  124.0  133.7  138.5  93.3  4.3  132.2   \n",
       "\n",
       "                     NS     NR  Time(s)  \n",
       "(Our Method, 20)    1.0    0.6      2.0  \n",
       "(Our Method, 50)    3.8    2.5      7.1  \n",
       "(Our Method, 100)   5.9    4.3     32.8  \n",
       "(Kool et al., 20)   0.5   16.1      0.2  \n",
       "(Kool et al., 50)   3.1   80.1      0.5  \n",
       "(Kool et al., 100)  7.9  118.8      1.3  "
      ]
     },
     "execution_count": 82,
     "metadata": {},
     "output_type": "execute_result"
    }
   ],
   "source": [
    "df_.columns = instance_names + [\"Time(s)\"]\n",
    "df_"
   ]
  },
  {
   "cell_type": "code",
   "execution_count": 83,
   "metadata": {},
   "outputs": [],
   "source": [
    "df_.to_clipboard()"
   ]
  },
  {
   "cell_type": "code",
   "execution_count": 87,
   "metadata": {},
   "outputs": [
    {
     "data": {
      "text/plain": [
       "[('Our Method', 20),\n",
       " ('Our Method', 50),\n",
       " ('Our Method', 100),\n",
       " ('Kool et al.', 20),\n",
       " ('Kool et al.', 50),\n",
       " ('Kool et al.', 100)]"
      ]
     },
     "execution_count": 87,
     "metadata": {},
     "output_type": "execute_result"
    }
   ],
   "source": [
    "df_.index.tolist()"
   ]
  },
  {
   "cell_type": "code",
   "execution_count": 88,
   "metadata": {},
   "outputs": [],
   "source": [
    "idx = [('Our Method', 20),\n",
    " ('Kool et al.', 20),\n",
    " ('Our Method', 50),\n",
    " ('Kool et al.', 50),\n",
    " ('Our Method', 100),\n",
    " ('Kool et al.', 100)]"
   ]
  },
  {
   "cell_type": "code",
   "execution_count": 95,
   "metadata": {},
   "outputs": [
    {
     "data": {
      "text/html": [
       "<div>\n",
       "<style scoped>\n",
       "    .dataframe tbody tr th:only-of-type {\n",
       "        vertical-align: middle;\n",
       "    }\n",
       "\n",
       "    .dataframe tbody tr th {\n",
       "        vertical-align: top;\n",
       "    }\n",
       "\n",
       "    .dataframe thead th {\n",
       "        text-align: right;\n",
       "    }\n",
       "</style>\n",
       "<table border=\"1\" class=\"dataframe\">\n",
       "  <thead>\n",
       "    <tr style=\"text-align: right;\">\n",
       "      <th></th>\n",
       "      <th>G1</th>\n",
       "      <th>G2_2</th>\n",
       "      <th>G3_1</th>\n",
       "      <th>G3_2</th>\n",
       "      <th>G3_3</th>\n",
       "      <th>G4</th>\n",
       "      <th>SG</th>\n",
       "      <th>US</th>\n",
       "      <th>UR</th>\n",
       "      <th>NS</th>\n",
       "      <th>NR</th>\n",
       "      <th>Time(s)</th>\n",
       "    </tr>\n",
       "  </thead>\n",
       "  <tbody>\n",
       "    <tr>\n",
       "      <th>(Our Method, 20)</th>\n",
       "      <td>0.9</td>\n",
       "      <td>0.9</td>\n",
       "      <td>0.5</td>\n",
       "      <td>0.8</td>\n",
       "      <td>0.7</td>\n",
       "      <td>0.6</td>\n",
       "      <td>1.0</td>\n",
       "      <td>1.2</td>\n",
       "      <td>0.7</td>\n",
       "      <td>1.0</td>\n",
       "      <td>0.6</td>\n",
       "      <td>2.0</td>\n",
       "    </tr>\n",
       "    <tr>\n",
       "      <th>(Kool et al., 20)</th>\n",
       "      <td>3.9</td>\n",
       "      <td>3.9</td>\n",
       "      <td>1.8</td>\n",
       "      <td>3.6</td>\n",
       "      <td>4.1</td>\n",
       "      <td>37.6</td>\n",
       "      <td>1.3</td>\n",
       "      <td>0.3</td>\n",
       "      <td>17.2</td>\n",
       "      <td>0.5</td>\n",
       "      <td>16.1</td>\n",
       "      <td>0.2</td>\n",
       "    </tr>\n",
       "    <tr>\n",
       "      <th>(Our Method, 50)</th>\n",
       "      <td>3.3</td>\n",
       "      <td>3.3</td>\n",
       "      <td>2.9</td>\n",
       "      <td>3.3</td>\n",
       "      <td>3.1</td>\n",
       "      <td>2.4</td>\n",
       "      <td>3.8</td>\n",
       "      <td>4.4</td>\n",
       "      <td>3.0</td>\n",
       "      <td>3.8</td>\n",
       "      <td>2.5</td>\n",
       "      <td>7.1</td>\n",
       "    </tr>\n",
       "    <tr>\n",
       "      <th>(Kool et al., 50)</th>\n",
       "      <td>26.7</td>\n",
       "      <td>27.0</td>\n",
       "      <td>67.8</td>\n",
       "      <td>92.5</td>\n",
       "      <td>104.1</td>\n",
       "      <td>135.5</td>\n",
       "      <td>17.0</td>\n",
       "      <td>1.6</td>\n",
       "      <td>84.8</td>\n",
       "      <td>3.1</td>\n",
       "      <td>80.1</td>\n",
       "      <td>0.5</td>\n",
       "    </tr>\n",
       "    <tr>\n",
       "      <th>(Our Method, 100)</th>\n",
       "      <td>5.6</td>\n",
       "      <td>5.5</td>\n",
       "      <td>6.0</td>\n",
       "      <td>5.4</td>\n",
       "      <td>5.3</td>\n",
       "      <td>4.4</td>\n",
       "      <td>6.4</td>\n",
       "      <td>6.6</td>\n",
       "      <td>5.1</td>\n",
       "      <td>5.9</td>\n",
       "      <td>4.3</td>\n",
       "      <td>32.8</td>\n",
       "    </tr>\n",
       "    <tr>\n",
       "      <th>(Kool et al., 100)</th>\n",
       "      <td>78.5</td>\n",
       "      <td>88.5</td>\n",
       "      <td>74.9</td>\n",
       "      <td>124.0</td>\n",
       "      <td>133.7</td>\n",
       "      <td>138.5</td>\n",
       "      <td>93.3</td>\n",
       "      <td>4.3</td>\n",
       "      <td>132.2</td>\n",
       "      <td>7.9</td>\n",
       "      <td>118.8</td>\n",
       "      <td>1.3</td>\n",
       "    </tr>\n",
       "  </tbody>\n",
       "</table>\n",
       "</div>"
      ],
      "text/plain": [
       "                      G1  G2_2  G3_1   G3_2   G3_3     G4    SG   US     UR  \\\n",
       "(Our Method, 20)     0.9   0.9   0.5    0.8    0.7    0.6   1.0  1.2    0.7   \n",
       "(Kool et al., 20)    3.9   3.9   1.8    3.6    4.1   37.6   1.3  0.3   17.2   \n",
       "(Our Method, 50)     3.3   3.3   2.9    3.3    3.1    2.4   3.8  4.4    3.0   \n",
       "(Kool et al., 50)   26.7  27.0  67.8   92.5  104.1  135.5  17.0  1.6   84.8   \n",
       "(Our Method, 100)    5.6   5.5   6.0    5.4    5.3    4.4   6.4  6.6    5.1   \n",
       "(Kool et al., 100)  78.5  88.5  74.9  124.0  133.7  138.5  93.3  4.3  132.2   \n",
       "\n",
       "                     NS     NR  Time(s)  \n",
       "(Our Method, 20)    1.0    0.6      2.0  \n",
       "(Kool et al., 20)   0.5   16.1      0.2  \n",
       "(Our Method, 50)    3.8    2.5      7.1  \n",
       "(Kool et al., 50)   3.1   80.1      0.5  \n",
       "(Our Method, 100)   5.9    4.3     32.8  \n",
       "(Kool et al., 100)  7.9  118.8      1.3  "
      ]
     },
     "execution_count": 95,
     "metadata": {},
     "output_type": "execute_result"
    }
   ],
   "source": [
    "df_.loc[idx]"
   ]
  },
  {
   "cell_type": "code",
   "execution_count": null,
   "metadata": {},
   "outputs": [],
   "source": []
  }
 ],
 "metadata": {
  "kernelspec": {
   "display_name": "Python 3",
   "language": "python",
   "name": "python3"
  },
  "language_info": {
   "codemirror_mode": {
    "name": "ipython",
    "version": 3
   },
   "file_extension": ".py",
   "mimetype": "text/x-python",
   "name": "python",
   "nbconvert_exporter": "python",
   "pygments_lexer": "ipython3",
   "version": "3.7.9"
  }
 },
 "nbformat": 4,
 "nbformat_minor": 2
}
